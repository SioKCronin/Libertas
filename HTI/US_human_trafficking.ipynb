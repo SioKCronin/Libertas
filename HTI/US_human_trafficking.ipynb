{
 "cells": [
  {
   "cell_type": "code",
   "execution_count": 47,
   "metadata": {
    "collapsed": false,
    "scrolled": true
   },
   "outputs": [
    {
     "data": {
      "text/html": [
       "<iframe id=\"igraph\" scrolling=\"no\" style=\"border:none;\" seamless=\"seamless\" src=\"https://plot.ly/~SioKCronin/36.embed\" height=\"525px\" width=\"100%\"></iframe>"
      ],
      "text/plain": [
       "<plotly.tools.PlotlyDisplay object>"
      ]
     },
     "execution_count": 47,
     "metadata": {},
     "output_type": "execute_result"
    }
   ],
   "source": [
    "# Graph upgrades https://2001-2009.state.gov/g/tip/rls/fs/07/83371.htm\n",
    "import seaborn as sns\n",
    "import matplotlib.pyplot as plt\n",
    "%matplotlib inline\n",
    "\n",
    "international_vs_domestic = {\"international\": 74018622, \n",
    "                             \"domestic\": 28553963}\n",
    "\n",
    "regions = {\"Africa\": 17,\n",
    "          \"East Asia & Pacific\": 17,\n",
    "          \"Europe & Eurasia\": 22,\n",
    "          \"Global\": 5,\n",
    "          \"Near East\": 0,\n",
    "          \"South Central Asia\": 15,\n",
    "          \"Western Hemisphere\": 24}\n",
    "\n",
    "# Regions\n",
    "\n",
    "import plotly.plotly as py\n",
    "\n",
    "keys = regions.keys()\n",
    "values = regions.values()\n",
    "\n",
    "fig = {\n",
    "    'data': [{'labels': keys,\n",
    "              'values': values,\n",
    "              'type': 'pie'}],\n",
    "    'layout': {'title': 'U.S. Anti-Human Trafficking Funding by Region (FY 2006)'}\n",
    "     }\n",
    "\n",
    "py.iplot(fig)"
   ]
  },
  {
   "cell_type": "code",
   "execution_count": 49,
   "metadata": {
    "collapsed": false
   },
   "outputs": [
    {
     "data": {
      "text/html": [
       "<iframe id=\"igraph\" scrolling=\"no\" style=\"border:none;\" seamless=\"seamless\" src=\"https://plot.ly/~SioKCronin/40.embed\" height=\"525px\" width=\"100%\"></iframe>"
      ],
      "text/plain": [
       "<plotly.tools.PlotlyDisplay object>"
      ]
     },
     "execution_count": 49,
     "metadata": {},
     "output_type": "execute_result"
    }
   ],
   "source": [
    "departments = {\"Department of Justice\": 19,\n",
    "              \"Department of Labor\": 27, \n",
    "              \"Department of State\": 18, \n",
    "              \"Health and Human Services\": 9, \n",
    "              \"Agency for int'l development\": 27}\n",
    "\n",
    "keys = departments.keys()\n",
    "values = departments.values()\n",
    "\n",
    "fig = {\n",
    "    'data': [{'labels': keys,\n",
    "              'values': values,\n",
    "              'type': 'pie'}],\n",
    "    'layout': {'title': 'U.S. Agency Obligations for Anti-Human Trafficking (FY2006)'}\n",
    "     }\n",
    "\n",
    "py.iplot(fig)\n"
   ]
  },
  {
   "cell_type": "code",
   "execution_count": null,
   "metadata": {
    "collapsed": true
   },
   "outputs": [],
   "source": []
  }
 ],
 "metadata": {
  "kernelspec": {
   "display_name": "Python [conda root]",
   "language": "python",
   "name": "conda-root-py"
  },
  "language_info": {
   "codemirror_mode": {
    "name": "ipython",
    "version": 2
   },
   "file_extension": ".py",
   "mimetype": "text/x-python",
   "name": "python",
   "nbconvert_exporter": "python",
   "pygments_lexer": "ipython2",
   "version": "2.7.12"
  }
 },
 "nbformat": 4,
 "nbformat_minor": 1
}
