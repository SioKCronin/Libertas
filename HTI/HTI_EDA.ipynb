{
 "cells": [
  {
   "cell_type": "markdown",
   "metadata": {},
   "source": [
    "# Human Trafficking Indicators (HTI) "
   ]
  },
  {
   "cell_type": "markdown",
   "metadata": {},
   "source": [
    "### Overview"
   ]
  },
  {
   "cell_type": "code",
   "execution_count": 1,
   "metadata": {
    "collapsed": true
   },
   "outputs": [],
   "source": [
    "import pandas as pd\n",
    "import numpy as np\n",
    "import unicodecsv\n",
    "import seaborn as sns\n",
    "import matplotlib.pyplot as plt\n",
    "import pprint \n",
    "%matplotlib inline\n",
    "\n",
    "data = pd.read_csv('HTI.csv')"
   ]
  },
  {
   "cell_type": "code",
   "execution_count": 2,
   "metadata": {
    "collapsed": false
   },
   "outputs": [
    {
     "data": {
      "text/plain": [
       "Index([u'country', u'ccode', u'year', u'tier', u'minstand', u'efforts',\n",
       "       u'TRAFFICKING_FLOWS', u'source', u'source_order', u'transit',\n",
       "       u'transit_order', u'destination', u'destination_order', u'internal',\n",
       "       u'TRAFFICKING_TYPES', u'psource', u'ptransit', u'pdest', u'pinternal',\n",
       "       u'lsource', u'ltransit', u'ldest', u'linternal', u'dsource',\n",
       "       u'dtransit', u'ddest', u'dinternal', u'dssource', u'dstransit',\n",
       "       u'dsdest', u'dsinternal', u'cpsource', u'cptransit', u'cpdest',\n",
       "       u'cpinternal', u'clsource', u'cltransit', u'cldest', u'clinternal',\n",
       "       u'cssource', u'cstransit', u'csdest', u'csinternal', u'PROSECUTION',\n",
       "       u'domesticlaws', u'enforcement', u'convictinfo', u'prosnum',\n",
       "       u'PROTECTION', u'protectprogress', u'victimid', u'victimservices',\n",
       "       u'victimpunish', u'PREVENTION', u'preventprogress',\n",
       "       u'INTERNATIONAL_LAWS', u'UNP_sign', u'UNP_rat', u'ILO182', u'ILO29',\n",
       "       u'ILO105', u'CEDAW_sign', u'CEDAW_rat', u'UNCRC_sign', u'UNCRC_rat',\n",
       "       u'conflict_sign', u'conflict_rat'],\n",
       "      dtype='object')"
      ]
     },
     "execution_count": 2,
     "metadata": {},
     "output_type": "execute_result"
    }
   ],
   "source": [
    "data.keys()"
   ]
  },
  {
   "cell_type": "code",
   "execution_count": 3,
   "metadata": {
    "collapsed": false
   },
   "outputs": [
    {
     "data": {
      "text/plain": [
       "country                  0\n",
       "ccode                    0\n",
       "year                     0\n",
       "tier                     0\n",
       "minstand                 0\n",
       "efforts                  0\n",
       "TRAFFICKING_FLOWS     1587\n",
       "source                   0\n",
       "source_order             0\n",
       "transit                  0\n",
       "transit_order            0\n",
       "destination              0\n",
       "destination_order        0\n",
       "internal                 0\n",
       "TRAFFICKING_TYPES     1587\n",
       "psource                  0\n",
       "ptransit                 0\n",
       "pdest                    0\n",
       "pinternal                0\n",
       "lsource                  0\n",
       "ltransit                 0\n",
       "ldest                    0\n",
       "linternal                0\n",
       "dsource                  0\n",
       "dtransit                 0\n",
       "ddest                    0\n",
       "dinternal                0\n",
       "dssource                 0\n",
       "dstransit                0\n",
       "dsdest                   0\n",
       "                      ... \n",
       "cldest                   0\n",
       "clinternal               0\n",
       "cssource                 0\n",
       "cstransit                0\n",
       "csdest                   0\n",
       "csinternal               0\n",
       "PROSECUTION           1587\n",
       "domesticlaws             0\n",
       "enforcement              0\n",
       "convictinfo              0\n",
       "prosnum                440\n",
       "PROTECTION            1587\n",
       "protectprogress          0\n",
       "victimid                 0\n",
       "victimservices           0\n",
       "victimpunish             0\n",
       "PREVENTION            1587\n",
       "preventprogress          0\n",
       "INTERNATIONAL_LAWS    1587\n",
       "UNP_sign               552\n",
       "UNP_rat                240\n",
       "ILO182                  74\n",
       "ILO29                   81\n",
       "ILO105                 113\n",
       "CEDAW_sign             684\n",
       "CEDAW_rat               58\n",
       "UNCRC_sign             560\n",
       "UNCRC_rat              162\n",
       "conflict_sign          465\n",
       "conflict_rat           263\n",
       "dtype: int64"
      ]
     },
     "execution_count": 3,
     "metadata": {},
     "output_type": "execute_result"
    }
   ],
   "source": [
    "data.isnull().sum()"
   ]
  },
  {
   "cell_type": "markdown",
   "metadata": {},
   "source": [
    "### Filter to just country, year and type"
   ]
  },
  {
   "cell_type": "code",
   "execution_count": 51,
   "metadata": {
    "collapsed": false
   },
   "outputs": [
    {
     "data": {
      "text/html": [
       "<div>\n",
       "<table border=\"1\" class=\"dataframe\">\n",
       "  <thead>\n",
       "    <tr style=\"text-align: right;\">\n",
       "      <th></th>\n",
       "      <th>country</th>\n",
       "      <th>year</th>\n",
       "      <th>pdest</th>\n",
       "      <th>ldest</th>\n",
       "      <th>ddest</th>\n",
       "      <th>dsdest</th>\n",
       "      <th>cpdest</th>\n",
       "      <th>cldest</th>\n",
       "      <th>csdest</th>\n",
       "    </tr>\n",
       "  </thead>\n",
       "  <tbody>\n",
       "    <tr>\n",
       "      <th>0</th>\n",
       "      <td>United States</td>\n",
       "      <td>2001</td>\n",
       "      <td>No mention</td>\n",
       "      <td>No mention</td>\n",
       "      <td>No mention</td>\n",
       "      <td>No mention</td>\n",
       "      <td>No mention</td>\n",
       "      <td>No mention</td>\n",
       "      <td>No mention</td>\n",
       "    </tr>\n",
       "    <tr>\n",
       "      <th>1</th>\n",
       "      <td>United States</td>\n",
       "      <td>2002</td>\n",
       "      <td>No mention</td>\n",
       "      <td>No mention</td>\n",
       "      <td>No mention</td>\n",
       "      <td>No mention</td>\n",
       "      <td>No mention</td>\n",
       "      <td>No mention</td>\n",
       "      <td>No mention</td>\n",
       "    </tr>\n",
       "    <tr>\n",
       "      <th>2</th>\n",
       "      <td>United States</td>\n",
       "      <td>2003</td>\n",
       "      <td>No mention</td>\n",
       "      <td>No mention</td>\n",
       "      <td>No mention</td>\n",
       "      <td>No mention</td>\n",
       "      <td>No mention</td>\n",
       "      <td>No mention</td>\n",
       "      <td>No mention</td>\n",
       "    </tr>\n",
       "    <tr>\n",
       "      <th>3</th>\n",
       "      <td>United States</td>\n",
       "      <td>2004</td>\n",
       "      <td>No mention</td>\n",
       "      <td>No mention</td>\n",
       "      <td>No mention</td>\n",
       "      <td>No mention</td>\n",
       "      <td>No mention</td>\n",
       "      <td>No mention</td>\n",
       "      <td>No mention</td>\n",
       "    </tr>\n",
       "    <tr>\n",
       "      <th>4</th>\n",
       "      <td>United States</td>\n",
       "      <td>2005</td>\n",
       "      <td>No mention</td>\n",
       "      <td>No mention</td>\n",
       "      <td>No mention</td>\n",
       "      <td>No mention</td>\n",
       "      <td>No mention</td>\n",
       "      <td>No mention</td>\n",
       "      <td>No mention</td>\n",
       "    </tr>\n",
       "  </tbody>\n",
       "</table>\n",
       "</div>"
      ],
      "text/plain": [
       "         country  year       pdest       ldest       ddest      dsdest  \\\n",
       "0  United States  2001  No mention  No mention  No mention  No mention   \n",
       "1  United States  2002  No mention  No mention  No mention  No mention   \n",
       "2  United States  2003  No mention  No mention  No mention  No mention   \n",
       "3  United States  2004  No mention  No mention  No mention  No mention   \n",
       "4  United States  2005  No mention  No mention  No mention  No mention   \n",
       "\n",
       "       cpdest      cldest      csdest  \n",
       "0  No mention  No mention  No mention  \n",
       "1  No mention  No mention  No mention  \n",
       "2  No mention  No mention  No mention  \n",
       "3  No mention  No mention  No mention  \n",
       "4  No mention  No mention  No mention  "
      ]
     },
     "execution_count": 51,
     "metadata": {},
     "output_type": "execute_result"
    }
   ],
   "source": [
    "df = pd.DataFrame(data)\n",
    "df = data[['country', 'year', \"pdest\", \"ldest\", \"ddest\", \"dsdest\", \"cpdest\", \"cldest\", \"csdest\"]]\n",
    "df[0:5]"
   ]
  },
  {
   "cell_type": "markdown",
   "metadata": {},
   "source": [
    "### Boolean for labor types"
   ]
  },
  {
   "cell_type": "code",
   "execution_count": 50,
   "metadata": {
    "collapsed": false
   },
   "outputs": [
    {
     "data": {
      "text/html": [
       "<div>\n",
       "<table border=\"1\" class=\"dataframe\">\n",
       "  <thead>\n",
       "    <tr style=\"text-align: right;\">\n",
       "      <th></th>\n",
       "      <th>cldest</th>\n",
       "      <th>country</th>\n",
       "      <th>cpdest</th>\n",
       "      <th>csdest</th>\n",
       "      <th>ddest</th>\n",
       "      <th>dsdest</th>\n",
       "      <th>ldest</th>\n",
       "      <th>pdest</th>\n",
       "      <th>year</th>\n",
       "    </tr>\n",
       "  </thead>\n",
       "  <tbody>\n",
       "    <tr>\n",
       "      <th>0</th>\n",
       "      <td>False</td>\n",
       "      <td>United States</td>\n",
       "      <td>False</td>\n",
       "      <td>False</td>\n",
       "      <td>False</td>\n",
       "      <td>False</td>\n",
       "      <td>False</td>\n",
       "      <td>False</td>\n",
       "      <td>2001</td>\n",
       "    </tr>\n",
       "    <tr>\n",
       "      <th>1</th>\n",
       "      <td>False</td>\n",
       "      <td>United States</td>\n",
       "      <td>False</td>\n",
       "      <td>False</td>\n",
       "      <td>False</td>\n",
       "      <td>False</td>\n",
       "      <td>False</td>\n",
       "      <td>False</td>\n",
       "      <td>2002</td>\n",
       "    </tr>\n",
       "    <tr>\n",
       "      <th>2</th>\n",
       "      <td>False</td>\n",
       "      <td>United States</td>\n",
       "      <td>False</td>\n",
       "      <td>False</td>\n",
       "      <td>False</td>\n",
       "      <td>False</td>\n",
       "      <td>False</td>\n",
       "      <td>False</td>\n",
       "      <td>2003</td>\n",
       "    </tr>\n",
       "    <tr>\n",
       "      <th>3</th>\n",
       "      <td>False</td>\n",
       "      <td>United States</td>\n",
       "      <td>False</td>\n",
       "      <td>False</td>\n",
       "      <td>False</td>\n",
       "      <td>False</td>\n",
       "      <td>False</td>\n",
       "      <td>False</td>\n",
       "      <td>2004</td>\n",
       "    </tr>\n",
       "    <tr>\n",
       "      <th>4</th>\n",
       "      <td>False</td>\n",
       "      <td>United States</td>\n",
       "      <td>False</td>\n",
       "      <td>False</td>\n",
       "      <td>False</td>\n",
       "      <td>False</td>\n",
       "      <td>False</td>\n",
       "      <td>False</td>\n",
       "      <td>2005</td>\n",
       "    </tr>\n",
       "  </tbody>\n",
       "</table>\n",
       "</div>"
      ],
      "text/plain": [
       "  cldest        country cpdest csdest  ddest dsdest  ldest  pdest  year\n",
       "0  False  United States  False  False  False  False  False  False  2001\n",
       "1  False  United States  False  False  False  False  False  False  2002\n",
       "2  False  United States  False  False  False  False  False  False  2003\n",
       "3  False  United States  False  False  False  False  False  False  2004\n",
       "4  False  United States  False  False  False  False  False  False  2005"
      ]
     },
     "execution_count": 50,
     "metadata": {},
     "output_type": "execute_result"
    }
   ],
   "source": [
    "# Boolean transform\n",
    "\n",
    "d = {'Yes': True, 'No mention': False, 'No': False}\n",
    "df = df.replace(d)\n",
    "df[0:5]"
   ]
  },
  {
   "cell_type": "markdown",
   "metadata": {},
   "source": [
    "### Fill in missing values\n"
   ]
  },
  {
   "cell_type": "code",
   "execution_count": 13,
   "metadata": {
    "collapsed": true
   },
   "outputs": [],
   "source": [
    "def country_years_missing(dataframe):\n",
    "    years = list(range(2001,2012))\n",
    "    country = list(df.country.unique())\n",
    "    for x in country:\n",
    "        for y in years: \n",
    "            if dataframe.query(\"year == @y and country == @x\").empty:\n",
    "                d = {'country': [x], 'year': [y]}\n",
    "                dataframe = dataframe.append(pd.DataFrame(d), ignore_index=True) \n",
    "    \n",
    "    return dataframe"
   ]
  },
  {
   "cell_type": "code",
   "execution_count": 16,
   "metadata": {
    "collapsed": false
   },
   "outputs": [],
   "source": [
    "df = country_years_missing(df)"
   ]
  },
  {
   "cell_type": "code",
   "execution_count": 24,
   "metadata": {
    "collapsed": false
   },
   "outputs": [
    {
     "data": {
      "text/html": [
       "<div>\n",
       "<table border=\"1\" class=\"dataframe\">\n",
       "  <thead>\n",
       "    <tr style=\"text-align: right;\">\n",
       "      <th></th>\n",
       "      <th>cldest</th>\n",
       "      <th>country</th>\n",
       "      <th>cpdest</th>\n",
       "      <th>csdest</th>\n",
       "      <th>ddest</th>\n",
       "      <th>dsdest</th>\n",
       "      <th>ldest</th>\n",
       "      <th>pdest</th>\n",
       "      <th>year</th>\n",
       "    </tr>\n",
       "  </thead>\n",
       "  <tbody>\n",
       "    <tr>\n",
       "      <th>0</th>\n",
       "      <td>False</td>\n",
       "      <td>United States</td>\n",
       "      <td>False</td>\n",
       "      <td>False</td>\n",
       "      <td>False</td>\n",
       "      <td>False</td>\n",
       "      <td>False</td>\n",
       "      <td>False</td>\n",
       "      <td>2001</td>\n",
       "    </tr>\n",
       "    <tr>\n",
       "      <th>1</th>\n",
       "      <td>False</td>\n",
       "      <td>United States</td>\n",
       "      <td>False</td>\n",
       "      <td>False</td>\n",
       "      <td>False</td>\n",
       "      <td>False</td>\n",
       "      <td>False</td>\n",
       "      <td>False</td>\n",
       "      <td>2002</td>\n",
       "    </tr>\n",
       "    <tr>\n",
       "      <th>2</th>\n",
       "      <td>False</td>\n",
       "      <td>United States</td>\n",
       "      <td>False</td>\n",
       "      <td>False</td>\n",
       "      <td>False</td>\n",
       "      <td>False</td>\n",
       "      <td>False</td>\n",
       "      <td>False</td>\n",
       "      <td>2003</td>\n",
       "    </tr>\n",
       "    <tr>\n",
       "      <th>3</th>\n",
       "      <td>False</td>\n",
       "      <td>United States</td>\n",
       "      <td>False</td>\n",
       "      <td>False</td>\n",
       "      <td>False</td>\n",
       "      <td>False</td>\n",
       "      <td>False</td>\n",
       "      <td>False</td>\n",
       "      <td>2004</td>\n",
       "    </tr>\n",
       "    <tr>\n",
       "      <th>4</th>\n",
       "      <td>False</td>\n",
       "      <td>United States</td>\n",
       "      <td>False</td>\n",
       "      <td>False</td>\n",
       "      <td>False</td>\n",
       "      <td>False</td>\n",
       "      <td>False</td>\n",
       "      <td>False</td>\n",
       "      <td>2005</td>\n",
       "    </tr>\n",
       "    <tr>\n",
       "      <th>5</th>\n",
       "      <td>True</td>\n",
       "      <td>United States</td>\n",
       "      <td>True</td>\n",
       "      <td>False</td>\n",
       "      <td>False</td>\n",
       "      <td>False</td>\n",
       "      <td>True</td>\n",
       "      <td>True</td>\n",
       "      <td>2007</td>\n",
       "    </tr>\n",
       "    <tr>\n",
       "      <th>6</th>\n",
       "      <td>True</td>\n",
       "      <td>United States</td>\n",
       "      <td>True</td>\n",
       "      <td>False</td>\n",
       "      <td>True</td>\n",
       "      <td>False</td>\n",
       "      <td>True</td>\n",
       "      <td>True</td>\n",
       "      <td>2008</td>\n",
       "    </tr>\n",
       "    <tr>\n",
       "      <th>7</th>\n",
       "      <td>True</td>\n",
       "      <td>United States</td>\n",
       "      <td>True</td>\n",
       "      <td>False</td>\n",
       "      <td>True</td>\n",
       "      <td>False</td>\n",
       "      <td>True</td>\n",
       "      <td>True</td>\n",
       "      <td>2009</td>\n",
       "    </tr>\n",
       "    <tr>\n",
       "      <th>8</th>\n",
       "      <td>True</td>\n",
       "      <td>United States</td>\n",
       "      <td>True</td>\n",
       "      <td>False</td>\n",
       "      <td>True</td>\n",
       "      <td>False</td>\n",
       "      <td>True</td>\n",
       "      <td>True</td>\n",
       "      <td>2010</td>\n",
       "    </tr>\n",
       "    <tr>\n",
       "      <th>9</th>\n",
       "      <td>True</td>\n",
       "      <td>United States</td>\n",
       "      <td>True</td>\n",
       "      <td>False</td>\n",
       "      <td>True</td>\n",
       "      <td>True</td>\n",
       "      <td>True</td>\n",
       "      <td>True</td>\n",
       "      <td>2011</td>\n",
       "    </tr>\n",
       "    <tr>\n",
       "      <th>1587</th>\n",
       "      <td>NaN</td>\n",
       "      <td>United States</td>\n",
       "      <td>NaN</td>\n",
       "      <td>NaN</td>\n",
       "      <td>NaN</td>\n",
       "      <td>NaN</td>\n",
       "      <td>NaN</td>\n",
       "      <td>NaN</td>\n",
       "      <td>2006</td>\n",
       "    </tr>\n",
       "  </tbody>\n",
       "</table>\n",
       "</div>"
      ],
      "text/plain": [
       "     cldest        country cpdest csdest  ddest dsdest  ldest  pdest  year\n",
       "0     False  United States  False  False  False  False  False  False  2001\n",
       "1     False  United States  False  False  False  False  False  False  2002\n",
       "2     False  United States  False  False  False  False  False  False  2003\n",
       "3     False  United States  False  False  False  False  False  False  2004\n",
       "4     False  United States  False  False  False  False  False  False  2005\n",
       "5      True  United States   True  False  False  False   True   True  2007\n",
       "6      True  United States   True  False   True  False   True   True  2008\n",
       "7      True  United States   True  False   True  False   True   True  2009\n",
       "8      True  United States   True  False   True  False   True   True  2010\n",
       "9      True  United States   True  False   True   True   True   True  2011\n",
       "1587    NaN  United States    NaN    NaN    NaN    NaN    NaN    NaN  2006"
      ]
     },
     "execution_count": 24,
     "metadata": {},
     "output_type": "execute_result"
    }
   ],
   "source": [
    "df[df.country == \"United States\"]"
   ]
  },
  {
   "cell_type": "markdown",
   "metadata": {},
   "source": [
    "### Write .json for data"
   ]
  },
  {
   "cell_type": "code",
   "execution_count": 26,
   "metadata": {
    "collapsed": false
   },
   "outputs": [],
   "source": [
    "# df.reset_index().to_dict(orient='dict')\n",
    "\n",
    "final_object = df.T.to_dict().values()"
   ]
  },
  {
   "cell_type": "code",
   "execution_count": 48,
   "metadata": {
    "collapsed": false
   },
   "outputs": [],
   "source": [
    "import simplejson\n",
    "\n",
    "with open('data.json', 'w') as outfile:\n",
    "    simplejson.dump(final_object, outfile, ignore_nan=True)"
   ]
  }
 ],
 "metadata": {
  "anaconda-cloud": {},
  "kernelspec": {
   "display_name": "Python [conda root]",
   "language": "python",
   "name": "conda-root-py"
  },
  "language_info": {
   "codemirror_mode": {
    "name": "ipython",
    "version": 2
   },
   "file_extension": ".py",
   "mimetype": "text/x-python",
   "name": "python",
   "nbconvert_exporter": "python",
   "pygments_lexer": "ipython2",
   "version": "2.7.12"
  }
 },
 "nbformat": 4,
 "nbformat_minor": 1
}
